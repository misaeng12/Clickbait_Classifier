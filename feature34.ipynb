{
  "nbformat": 4,
  "nbformat_minor": 0,
  "metadata": {
    "colab": {
      "name": "feature34.ipynb",
      "version": "0.3.2",
      "provenance": [],
      "collapsed_sections": []
    },
    "language_info": {
      "codemirror_mode": {
        "name": "ipython",
        "version": 3
      },
      "file_extension": ".py",
      "mimetype": "text/x-python",
      "name": "python",
      "nbconvert_exporter": "python",
      "pygments_lexer": "ipython3",
      "version": "3.6.5"
    },
    "kernelspec": {
      "display_name": "Python 3",
      "language": "python",
      "name": "python3"
    }
  },
  "cells": [
    {
      "metadata": {
        "id": "smsYv-NvSrOd",
        "colab_type": "code",
        "colab": {}
      },
      "cell_type": "code",
      "source": [
        "import pandas as pd\n",
        "import re\n",
        "from collections import Counter"
      ],
      "execution_count": 0,
      "outputs": []
    },
    {
      "metadata": {
        "id": "MhbEPO8ZSrOg",
        "colab_type": "code",
        "colab": {}
      },
      "cell_type": "code",
      "source": [
        "normal = pd.read_csv(\"normal.csv\", encoding=\"cp949\")\n",
        "hoax = pd.read_csv(\"hoax.csv\", encoding=\"cp949\")\n",
        "news = normal.append(hoax)"
      ],
      "execution_count": 0,
      "outputs": []
    },
    {
      "metadata": {
        "id": "ZxNM4Tv8TCZ1",
        "colab_type": "text"
      },
      "cell_type": "markdown",
      "source": [
        "### Feature3 (the number of punctuations)"
      ]
    },
    {
      "metadata": {
        "id": "rX3-7ThhSrOj",
        "colab_type": "code",
        "colab": {}
      },
      "cell_type": "code",
      "source": [
        "punctuation_list = ['…', '..', '‥', '?', '!']\n",
        "\n",
        "feature3 = []\n",
        "for title in news[\"title\"]:\n",
        "    a = 0\n",
        "    for punctuation in punctuation_list:\n",
        "        a += title.count(punctuation)\n",
        "    feature3.append(a)\n",
        "    \n",
        "news['feature3'] = feature3"
      ],
      "execution_count": 0,
      "outputs": []
    },
    {
      "metadata": {
        "id": "OnJWH2vzTHX6",
        "colab_type": "text"
      },
      "cell_type": "markdown",
      "source": [
        "### Feature4 (the number of sensational words)"
      ]
    },
    {
      "metadata": {
        "id": "wxqAI1xQSrOl",
        "colab_type": "code",
        "colab": {}
      },
      "cell_type": "code",
      "source": [
        "# feature4 (N)\n",
        "hoax_words_list = ['충격','속보','고백','깜짝','경악','파격','노출','폭발','폭로','진짜','근황','분노','위기','반전','비키니','초토화']\n",
        "\n",
        "hoax_words = []\n",
        "for title in news[\"title\"]:\n",
        "    hoax_words1=[]\n",
        "    for word in hoax_words_list:\n",
        "        if word in title:\n",
        "            hoax_words1.append(word)\n",
        "    hoax_words.append(hoax_words1)\n",
        "    \n",
        "feature4 = []\n",
        "for words in hoax_words:\n",
        "    feature4.append(len(words))\n",
        "\n",
        "news['feature4'] = feature4"
      ],
      "execution_count": 0,
      "outputs": []
    },
    {
      "metadata": {
        "id": "-HPWCSmqSrOo",
        "colab_type": "code",
        "colab": {}
      },
      "cell_type": "code",
      "source": [
        "normal = news[news[\"hoax\"]==0]\n",
        "hoax = news[news[\"hoax\"]==1]"
      ],
      "execution_count": 0,
      "outputs": []
    },
    {
      "metadata": {
        "id": "mTWKbyioSrOr",
        "colab_type": "code",
        "colab": {}
      },
      "cell_type": "code",
      "source": [
        "normal.to_csv(\"normal_featured345.csv\", encoding=\"cp949\")\n",
        "hoax.to_csv(\"hoax_featured345.csv\", encoding=\"cp949\")"
      ],
      "execution_count": 0,
      "outputs": []
    },
    {
      "metadata": {
        "id": "vAQrtHTxSrOt",
        "colab_type": "code",
        "colab": {}
      },
      "cell_type": "code",
      "source": [
        ""
      ],
      "execution_count": 0,
      "outputs": []
    },
    {
      "metadata": {
        "id": "7nOnl-iUSrOv",
        "colab_type": "code",
        "outputId": "0b9b22e3-936e-4cf1-e3f7-9a139aa61110",
        "colab": {}
      },
      "cell_type": "code",
      "source": [
        "normal.describe()"
      ],
      "execution_count": 0,
      "outputs": [
        {
          "output_type": "execute_result",
          "data": {
            "text/html": [
              "<div>\n",
              "<style scoped>\n",
              "    .dataframe tbody tr th:only-of-type {\n",
              "        vertical-align: middle;\n",
              "    }\n",
              "\n",
              "    .dataframe tbody tr th {\n",
              "        vertical-align: top;\n",
              "    }\n",
              "\n",
              "    .dataframe thead th {\n",
              "        text-align: right;\n",
              "    }\n",
              "</style>\n",
              "<table border=\"1\" class=\"dataframe\">\n",
              "  <thead>\n",
              "    <tr style=\"text-align: right;\">\n",
              "      <th></th>\n",
              "      <th>Unnamed: 0</th>\n",
              "      <th>hoax</th>\n",
              "      <th>feature3</th>\n",
              "      <th>feature4</th>\n",
              "      <th>feature5</th>\n",
              "    </tr>\n",
              "  </thead>\n",
              "  <tbody>\n",
              "    <tr>\n",
              "      <th>count</th>\n",
              "      <td>10000.00000</td>\n",
              "      <td>10000.0</td>\n",
              "      <td>10000.000000</td>\n",
              "      <td>10000.000000</td>\n",
              "      <td>10000.000000</td>\n",
              "    </tr>\n",
              "    <tr>\n",
              "      <th>mean</th>\n",
              "      <td>4999.50000</td>\n",
              "      <td>0.0</td>\n",
              "      <td>0.394100</td>\n",
              "      <td>0.087300</td>\n",
              "      <td>0.198723</td>\n",
              "    </tr>\n",
              "    <tr>\n",
              "      <th>std</th>\n",
              "      <td>2886.89568</td>\n",
              "      <td>0.0</td>\n",
              "      <td>0.569752</td>\n",
              "      <td>0.304775</td>\n",
              "      <td>0.233422</td>\n",
              "    </tr>\n",
              "    <tr>\n",
              "      <th>min</th>\n",
              "      <td>0.00000</td>\n",
              "      <td>0.0</td>\n",
              "      <td>0.000000</td>\n",
              "      <td>0.000000</td>\n",
              "      <td>0.000000</td>\n",
              "    </tr>\n",
              "    <tr>\n",
              "      <th>25%</th>\n",
              "      <td>2499.75000</td>\n",
              "      <td>0.0</td>\n",
              "      <td>0.000000</td>\n",
              "      <td>0.000000</td>\n",
              "      <td>0.000000</td>\n",
              "    </tr>\n",
              "    <tr>\n",
              "      <th>50%</th>\n",
              "      <td>4999.50000</td>\n",
              "      <td>0.0</td>\n",
              "      <td>0.000000</td>\n",
              "      <td>0.000000</td>\n",
              "      <td>0.116279</td>\n",
              "    </tr>\n",
              "    <tr>\n",
              "      <th>75%</th>\n",
              "      <td>7499.25000</td>\n",
              "      <td>0.0</td>\n",
              "      <td>1.000000</td>\n",
              "      <td>0.000000</td>\n",
              "      <td>0.285714</td>\n",
              "    </tr>\n",
              "    <tr>\n",
              "      <th>max</th>\n",
              "      <td>9999.00000</td>\n",
              "      <td>0.0</td>\n",
              "      <td>4.000000</td>\n",
              "      <td>3.000000</td>\n",
              "      <td>0.995614</td>\n",
              "    </tr>\n",
              "  </tbody>\n",
              "</table>\n",
              "</div>"
            ],
            "text/plain": [
              "        Unnamed: 0     hoax      feature3      feature4      feature5\n",
              "count  10000.00000  10000.0  10000.000000  10000.000000  10000.000000\n",
              "mean    4999.50000      0.0      0.394100      0.087300      0.198723\n",
              "std     2886.89568      0.0      0.569752      0.304775      0.233422\n",
              "min        0.00000      0.0      0.000000      0.000000      0.000000\n",
              "25%     2499.75000      0.0      0.000000      0.000000      0.000000\n",
              "50%     4999.50000      0.0      0.000000      0.000000      0.116279\n",
              "75%     7499.25000      0.0      1.000000      0.000000      0.285714\n",
              "max     9999.00000      0.0      4.000000      3.000000      0.995614"
            ]
          },
          "metadata": {
            "tags": []
          },
          "execution_count": 31
        }
      ]
    },
    {
      "metadata": {
        "id": "NzczIHmdSrO0",
        "colab_type": "code",
        "outputId": "ec4d60c8-5f19-42bc-bb0b-f7d6d4a7d49c",
        "colab": {}
      },
      "cell_type": "code",
      "source": [
        "hoax.describe()"
      ],
      "execution_count": 0,
      "outputs": [
        {
          "output_type": "execute_result",
          "data": {
            "text/html": [
              "<div>\n",
              "<style scoped>\n",
              "    .dataframe tbody tr th:only-of-type {\n",
              "        vertical-align: middle;\n",
              "    }\n",
              "\n",
              "    .dataframe tbody tr th {\n",
              "        vertical-align: top;\n",
              "    }\n",
              "\n",
              "    .dataframe thead th {\n",
              "        text-align: right;\n",
              "    }\n",
              "</style>\n",
              "<table border=\"1\" class=\"dataframe\">\n",
              "  <thead>\n",
              "    <tr style=\"text-align: right;\">\n",
              "      <th></th>\n",
              "      <th>Unnamed: 0</th>\n",
              "      <th>hoax</th>\n",
              "      <th>feature3</th>\n",
              "      <th>feature4</th>\n",
              "      <th>feature5</th>\n",
              "    </tr>\n",
              "  </thead>\n",
              "  <tbody>\n",
              "    <tr>\n",
              "      <th>count</th>\n",
              "      <td>10000.00000</td>\n",
              "      <td>10000.0</td>\n",
              "      <td>10000.00000</td>\n",
              "      <td>10000.000000</td>\n",
              "      <td>10000.000000</td>\n",
              "    </tr>\n",
              "    <tr>\n",
              "      <th>mean</th>\n",
              "      <td>4999.50000</td>\n",
              "      <td>1.0</td>\n",
              "      <td>0.59660</td>\n",
              "      <td>0.418500</td>\n",
              "      <td>0.801277</td>\n",
              "    </tr>\n",
              "    <tr>\n",
              "      <th>std</th>\n",
              "      <td>2886.89568</td>\n",
              "      <td>0.0</td>\n",
              "      <td>0.61669</td>\n",
              "      <td>0.691524</td>\n",
              "      <td>0.255475</td>\n",
              "    </tr>\n",
              "    <tr>\n",
              "      <th>min</th>\n",
              "      <td>0.00000</td>\n",
              "      <td>1.0</td>\n",
              "      <td>0.00000</td>\n",
              "      <td>0.000000</td>\n",
              "      <td>0.007092</td>\n",
              "    </tr>\n",
              "    <tr>\n",
              "      <th>25%</th>\n",
              "      <td>2499.75000</td>\n",
              "      <td>1.0</td>\n",
              "      <td>0.00000</td>\n",
              "      <td>0.000000</td>\n",
              "      <td>0.743750</td>\n",
              "    </tr>\n",
              "    <tr>\n",
              "      <th>50%</th>\n",
              "      <td>4999.50000</td>\n",
              "      <td>1.0</td>\n",
              "      <td>1.00000</td>\n",
              "      <td>0.000000</td>\n",
              "      <td>0.944444</td>\n",
              "    </tr>\n",
              "    <tr>\n",
              "      <th>75%</th>\n",
              "      <td>7499.25000</td>\n",
              "      <td>1.0</td>\n",
              "      <td>1.00000</td>\n",
              "      <td>1.000000</td>\n",
              "      <td>1.000000</td>\n",
              "    </tr>\n",
              "    <tr>\n",
              "      <th>max</th>\n",
              "      <td>9999.00000</td>\n",
              "      <td>1.0</td>\n",
              "      <td>5.00000</td>\n",
              "      <td>4.000000</td>\n",
              "      <td>1.000000</td>\n",
              "    </tr>\n",
              "  </tbody>\n",
              "</table>\n",
              "</div>"
            ],
            "text/plain": [
              "        Unnamed: 0     hoax     feature3      feature4      feature5\n",
              "count  10000.00000  10000.0  10000.00000  10000.000000  10000.000000\n",
              "mean    4999.50000      1.0      0.59660      0.418500      0.801277\n",
              "std     2886.89568      0.0      0.61669      0.691524      0.255475\n",
              "min        0.00000      1.0      0.00000      0.000000      0.007092\n",
              "25%     2499.75000      1.0      0.00000      0.000000      0.743750\n",
              "50%     4999.50000      1.0      1.00000      0.000000      0.944444\n",
              "75%     7499.25000      1.0      1.00000      1.000000      1.000000\n",
              "max     9999.00000      1.0      5.00000      4.000000      1.000000"
            ]
          },
          "metadata": {
            "tags": []
          },
          "execution_count": 32
        }
      ]
    }
  ]
}