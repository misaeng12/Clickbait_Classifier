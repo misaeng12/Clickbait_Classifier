{
  "nbformat": 4,
  "nbformat_minor": 0,
  "metadata": {
    "colab": {
      "name": "feature5.ipynb",
      "version": "0.3.2",
      "provenance": [],
      "collapsed_sections": []
    },
    "language_info": {
      "codemirror_mode": {
        "name": "ipython",
        "version": 3
      },
      "file_extension": ".py",
      "mimetype": "text/x-python",
      "name": "python",
      "nbconvert_exporter": "python",
      "pygments_lexer": "ipython3",
      "version": "3.6.5"
    },
    "kernelspec": {
      "display_name": "Python 3",
      "language": "python",
      "name": "python3"
    }
  },
  "cells": [
    {
      "metadata": {
        "id": "kKIZl6uTgYfA",
        "colab_type": "code",
        "colab": {}
      },
      "cell_type": "code",
      "source": [
        "import pandas as pd\n",
        "import re\n",
        "from collections import Counter"
      ],
      "execution_count": 0,
      "outputs": []
    },
    {
      "metadata": {
        "id": "Zypy2GZRT9Ew",
        "colab_type": "text"
      },
      "cell_type": "markdown",
      "source": [
        "### training data"
      ]
    },
    {
      "metadata": {
        "id": "8f2mePFCgYfT",
        "colab_type": "code",
        "colab": {}
      },
      "cell_type": "code",
      "source": [
        "train_data = pd.read_csv(\"train.csv\", encoding=\"cp949\")"
      ],
      "execution_count": 0,
      "outputs": []
    },
    {
      "metadata": {
        "id": "YhxBu5PK8GHz",
        "colab_type": "code",
        "colab": {}
      },
      "cell_type": "code",
      "source": [
        "reporter = []\n",
        "\n",
        "p = re.compile('([가-힣]{2,3})[ ]?(인턴)?[ ]?기자')\n",
        "\n",
        "for contents in train_data[\"contents\"]:\n",
        "    m = p.search(contents)\n",
        "    r = m.group(1) if m else 0\n",
        "    reporter.append(r)\n",
        "\n",
        "train_data[\"reporter\"] = reporter"
      ],
      "execution_count": 0,
      "outputs": []
    },
    {
      "metadata": {
        "id": "N7j8MVT8gYff",
        "colab_type": "code",
        "colab": {}
      },
      "cell_type": "code",
      "source": [
        "# 1번만 나온 기자 리스트\n",
        "reporter1 = []\n",
        "\n",
        "for (i, j) in Counter(reporter).most_common(1901) :\n",
        "    if j == 1 :\n",
        "        t = i\n",
        "        reporter1.append(t)"
      ],
      "execution_count": 0,
      "outputs": []
    },
    {
      "metadata": {
        "id": "mzWy-RmjgYfk",
        "colab_type": "code",
        "colab": {}
      },
      "cell_type": "code",
      "source": [
        "feature5 = []\n",
        "\n",
        "for i in train_data[\"reporter\"] :\n",
        "    b = sum(train_data[\"reporter\"]==i)\n",
        "    c = sum(train_data[train_data[\"hoax\"]==1][\"reporter\"]==i)\n",
        "    a = c / b\n",
        "    feature5.append(a)\n",
        "    \n",
        "n = -1\n",
        "for i in train_data[\"reporter\"] :\n",
        "    n += 1\n",
        "    if i in reporter1 :\n",
        "        feature5[n] = 0.5   # 평균값으로 대체\n",
        "\n",
        "train_data[\"feature5\"] = feature5"
      ],
      "execution_count": 0,
      "outputs": []
    },
    {
      "metadata": {
        "id": "UzHF3Gp4gYfo",
        "colab_type": "code",
        "colab": {}
      },
      "cell_type": "code",
      "source": [
        "train_data.to_csv(\"train_featured5.csv\", encoding=\"cp949\")"
      ],
      "execution_count": 0,
      "outputs": []
    },
    {
      "metadata": {
        "id": "O6YNOsC0gYfs",
        "colab_type": "text"
      },
      "cell_type": "markdown",
      "source": [
        "### test data"
      ]
    },
    {
      "metadata": {
        "id": "S9MaOYfmgYft",
        "colab_type": "code",
        "colab": {}
      },
      "cell_type": "code",
      "source": [
        "test_data = pd.read_csv(\"test.csv\", encoding=\"cp949\")"
      ],
      "execution_count": 0,
      "outputs": []
    },
    {
      "metadata": {
        "id": "uAhf_nxKKqqZ",
        "colab_type": "code",
        "colab": {}
      },
      "cell_type": "code",
      "source": [
        "test_reporter = []\n",
        "\n",
        "for contents in test_data[\"contents\"]:\n",
        "    m = p.search(contents)\n",
        "    r = m.group(1) if m else 0\n",
        "    test_reporter.append( r )\n",
        "\n",
        "test_data[\"reporter\"] = test_reporter"
      ],
      "execution_count": 0,
      "outputs": []
    },
    {
      "metadata": {
        "id": "rcACOXKRgYfx",
        "colab_type": "code",
        "colab": {}
      },
      "cell_type": "code",
      "source": [
        "feature5 = []\n",
        "\n",
        "for i in test_data[\"reporter\"] :\n",
        "    if i in reporter :\n",
        "        a = train_data[\"feature5\"][reporter.index(i)]\n",
        "    else : a = 0.5\n",
        "    feature5.append(a)\n",
        "\n",
        "test_data[\"feature5\"] = feature5"
      ],
      "execution_count": 0,
      "outputs": []
    },
    {
      "metadata": {
        "id": "5QYh28y-gYf9",
        "colab_type": "code",
        "colab": {}
      },
      "cell_type": "code",
      "source": [
        "test_data.to_csv(\"test_featured5.csv\", encoding=\"cp949\")"
      ],
      "execution_count": 0,
      "outputs": []
    },
    {
      "metadata": {
        "id": "fVCcOiRFgYgA",
        "colab_type": "code",
        "colab": {}
      },
      "cell_type": "code",
      "source": [
        ""
      ],
      "execution_count": 0,
      "outputs": []
    },
    {
      "metadata": {
        "id": "E9uRvcDYgYgE",
        "colab_type": "code",
        "colab": {}
      },
      "cell_type": "code",
      "source": [
        "normal = news[news[\"hoax\"]==0]\n",
        "hoax = news[news[\"hoax\"]==1]"
      ],
      "execution_count": 0,
      "outputs": []
    },
    {
      "metadata": {
        "id": "ln16ppMUgYgH",
        "colab_type": "code",
        "colab": {}
      },
      "cell_type": "code",
      "source": [
        "normal.to_csv(\"normal_featured345.csv\", encoding=\"cp949\")\n",
        "hoax.to_csv(\"hoax_featured345.csv\", encoding=\"cp949\")"
      ],
      "execution_count": 0,
      "outputs": []
    },
    {
      "metadata": {
        "id": "90CaAMWLgYgK",
        "colab_type": "code",
        "colab": {}
      },
      "cell_type": "code",
      "source": [
        ""
      ],
      "execution_count": 0,
      "outputs": []
    },
    {
      "metadata": {
        "id": "mU3pAJXUgYgO",
        "colab_type": "code",
        "outputId": "0b2357fd-33ae-4b28-f504-b8126661906f",
        "colab": {}
      },
      "cell_type": "code",
      "source": [
        "normal.describe()"
      ],
      "execution_count": 0,
      "outputs": [
        {
          "output_type": "execute_result",
          "data": {
            "text/html": [
              "<div>\n",
              "<style scoped>\n",
              "    .dataframe tbody tr th:only-of-type {\n",
              "        vertical-align: middle;\n",
              "    }\n",
              "\n",
              "    .dataframe tbody tr th {\n",
              "        vertical-align: top;\n",
              "    }\n",
              "\n",
              "    .dataframe thead th {\n",
              "        text-align: right;\n",
              "    }\n",
              "</style>\n",
              "<table border=\"1\" class=\"dataframe\">\n",
              "  <thead>\n",
              "    <tr style=\"text-align: right;\">\n",
              "      <th></th>\n",
              "      <th>Unnamed: 0</th>\n",
              "      <th>hoax</th>\n",
              "      <th>feature3</th>\n",
              "      <th>feature4</th>\n",
              "      <th>feature5</th>\n",
              "    </tr>\n",
              "  </thead>\n",
              "  <tbody>\n",
              "    <tr>\n",
              "      <th>count</th>\n",
              "      <td>10000.00000</td>\n",
              "      <td>10000.0</td>\n",
              "      <td>10000.000000</td>\n",
              "      <td>10000.000000</td>\n",
              "      <td>10000.000000</td>\n",
              "    </tr>\n",
              "    <tr>\n",
              "      <th>mean</th>\n",
              "      <td>4999.50000</td>\n",
              "      <td>0.0</td>\n",
              "      <td>0.394100</td>\n",
              "      <td>0.087300</td>\n",
              "      <td>0.198723</td>\n",
              "    </tr>\n",
              "    <tr>\n",
              "      <th>std</th>\n",
              "      <td>2886.89568</td>\n",
              "      <td>0.0</td>\n",
              "      <td>0.569752</td>\n",
              "      <td>0.304775</td>\n",
              "      <td>0.233422</td>\n",
              "    </tr>\n",
              "    <tr>\n",
              "      <th>min</th>\n",
              "      <td>0.00000</td>\n",
              "      <td>0.0</td>\n",
              "      <td>0.000000</td>\n",
              "      <td>0.000000</td>\n",
              "      <td>0.000000</td>\n",
              "    </tr>\n",
              "    <tr>\n",
              "      <th>25%</th>\n",
              "      <td>2499.75000</td>\n",
              "      <td>0.0</td>\n",
              "      <td>0.000000</td>\n",
              "      <td>0.000000</td>\n",
              "      <td>0.000000</td>\n",
              "    </tr>\n",
              "    <tr>\n",
              "      <th>50%</th>\n",
              "      <td>4999.50000</td>\n",
              "      <td>0.0</td>\n",
              "      <td>0.000000</td>\n",
              "      <td>0.000000</td>\n",
              "      <td>0.116279</td>\n",
              "    </tr>\n",
              "    <tr>\n",
              "      <th>75%</th>\n",
              "      <td>7499.25000</td>\n",
              "      <td>0.0</td>\n",
              "      <td>1.000000</td>\n",
              "      <td>0.000000</td>\n",
              "      <td>0.285714</td>\n",
              "    </tr>\n",
              "    <tr>\n",
              "      <th>max</th>\n",
              "      <td>9999.00000</td>\n",
              "      <td>0.0</td>\n",
              "      <td>4.000000</td>\n",
              "      <td>3.000000</td>\n",
              "      <td>0.995614</td>\n",
              "    </tr>\n",
              "  </tbody>\n",
              "</table>\n",
              "</div>"
            ],
            "text/plain": [
              "        Unnamed: 0     hoax      feature3      feature4      feature5\n",
              "count  10000.00000  10000.0  10000.000000  10000.000000  10000.000000\n",
              "mean    4999.50000      0.0      0.394100      0.087300      0.198723\n",
              "std     2886.89568      0.0      0.569752      0.304775      0.233422\n",
              "min        0.00000      0.0      0.000000      0.000000      0.000000\n",
              "25%     2499.75000      0.0      0.000000      0.000000      0.000000\n",
              "50%     4999.50000      0.0      0.000000      0.000000      0.116279\n",
              "75%     7499.25000      0.0      1.000000      0.000000      0.285714\n",
              "max     9999.00000      0.0      4.000000      3.000000      0.995614"
            ]
          },
          "metadata": {
            "tags": []
          },
          "execution_count": 31
        }
      ]
    },
    {
      "metadata": {
        "id": "87OY3o3qgYgS",
        "colab_type": "code",
        "outputId": "14389a1b-bfa7-48e5-97d8-3195ede36648",
        "colab": {}
      },
      "cell_type": "code",
      "source": [
        "hoax.describe()"
      ],
      "execution_count": 0,
      "outputs": [
        {
          "output_type": "execute_result",
          "data": {
            "text/html": [
              "<div>\n",
              "<style scoped>\n",
              "    .dataframe tbody tr th:only-of-type {\n",
              "        vertical-align: middle;\n",
              "    }\n",
              "\n",
              "    .dataframe tbody tr th {\n",
              "        vertical-align: top;\n",
              "    }\n",
              "\n",
              "    .dataframe thead th {\n",
              "        text-align: right;\n",
              "    }\n",
              "</style>\n",
              "<table border=\"1\" class=\"dataframe\">\n",
              "  <thead>\n",
              "    <tr style=\"text-align: right;\">\n",
              "      <th></th>\n",
              "      <th>Unnamed: 0</th>\n",
              "      <th>hoax</th>\n",
              "      <th>feature3</th>\n",
              "      <th>feature4</th>\n",
              "      <th>feature5</th>\n",
              "    </tr>\n",
              "  </thead>\n",
              "  <tbody>\n",
              "    <tr>\n",
              "      <th>count</th>\n",
              "      <td>10000.00000</td>\n",
              "      <td>10000.0</td>\n",
              "      <td>10000.00000</td>\n",
              "      <td>10000.000000</td>\n",
              "      <td>10000.000000</td>\n",
              "    </tr>\n",
              "    <tr>\n",
              "      <th>mean</th>\n",
              "      <td>4999.50000</td>\n",
              "      <td>1.0</td>\n",
              "      <td>0.59660</td>\n",
              "      <td>0.418500</td>\n",
              "      <td>0.801277</td>\n",
              "    </tr>\n",
              "    <tr>\n",
              "      <th>std</th>\n",
              "      <td>2886.89568</td>\n",
              "      <td>0.0</td>\n",
              "      <td>0.61669</td>\n",
              "      <td>0.691524</td>\n",
              "      <td>0.255475</td>\n",
              "    </tr>\n",
              "    <tr>\n",
              "      <th>min</th>\n",
              "      <td>0.00000</td>\n",
              "      <td>1.0</td>\n",
              "      <td>0.00000</td>\n",
              "      <td>0.000000</td>\n",
              "      <td>0.007092</td>\n",
              "    </tr>\n",
              "    <tr>\n",
              "      <th>25%</th>\n",
              "      <td>2499.75000</td>\n",
              "      <td>1.0</td>\n",
              "      <td>0.00000</td>\n",
              "      <td>0.000000</td>\n",
              "      <td>0.743750</td>\n",
              "    </tr>\n",
              "    <tr>\n",
              "      <th>50%</th>\n",
              "      <td>4999.50000</td>\n",
              "      <td>1.0</td>\n",
              "      <td>1.00000</td>\n",
              "      <td>0.000000</td>\n",
              "      <td>0.944444</td>\n",
              "    </tr>\n",
              "    <tr>\n",
              "      <th>75%</th>\n",
              "      <td>7499.25000</td>\n",
              "      <td>1.0</td>\n",
              "      <td>1.00000</td>\n",
              "      <td>1.000000</td>\n",
              "      <td>1.000000</td>\n",
              "    </tr>\n",
              "    <tr>\n",
              "      <th>max</th>\n",
              "      <td>9999.00000</td>\n",
              "      <td>1.0</td>\n",
              "      <td>5.00000</td>\n",
              "      <td>4.000000</td>\n",
              "      <td>1.000000</td>\n",
              "    </tr>\n",
              "  </tbody>\n",
              "</table>\n",
              "</div>"
            ],
            "text/plain": [
              "        Unnamed: 0     hoax     feature3      feature4      feature5\n",
              "count  10000.00000  10000.0  10000.00000  10000.000000  10000.000000\n",
              "mean    4999.50000      1.0      0.59660      0.418500      0.801277\n",
              "std     2886.89568      0.0      0.61669      0.691524      0.255475\n",
              "min        0.00000      1.0      0.00000      0.000000      0.007092\n",
              "25%     2499.75000      1.0      0.00000      0.000000      0.743750\n",
              "50%     4999.50000      1.0      1.00000      0.000000      0.944444\n",
              "75%     7499.25000      1.0      1.00000      1.000000      1.000000\n",
              "max     9999.00000      1.0      5.00000      4.000000      1.000000"
            ]
          },
          "metadata": {
            "tags": []
          },
          "execution_count": 32
        }
      ]
    }
  ]
}
